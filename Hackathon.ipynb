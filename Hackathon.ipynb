{
 "cells": [
  {
   "cell_type": "code",
   "execution_count": 1,
   "metadata": {},
   "outputs": [
    {
     "name": "stderr",
     "output_type": "stream",
     "text": [
      "[nltk_data] Downloading package stopwords to\n",
      "[nltk_data]     C:\\Users\\NEERAJ\\AppData\\Roaming\\nltk_data...\n",
      "[nltk_data]   Package stopwords is already up-to-date!\n",
      "[nltk_data] Downloading package punkt to\n",
      "[nltk_data]     C:\\Users\\NEERAJ\\AppData\\Roaming\\nltk_data...\n",
      "[nltk_data]   Package punkt is already up-to-date!\n"
     ]
    },
    {
     "data": {
      "text/plain": [
       "True"
      ]
     },
     "execution_count": 1,
     "metadata": {},
     "output_type": "execute_result"
    }
   ],
   "source": [
    "import pandas as pd\n",
    "import numpy as np\n",
    "import warnings\n",
    "warnings.simplefilter(action='ignore', category=FutureWarning)\n",
    "\n",
    "import re\n",
    "import nltk\n",
    "from nltk.stem import PorterStemmer \n",
    "from nltk.tokenize import word_tokenize \n",
    "from nltk.corpus import stopwords\n",
    "nltk.download('stopwords')\n",
    "nltk.download('punkt')"
   ]
  },
  {
   "cell_type": "code",
   "execution_count": 2,
   "metadata": {},
   "outputs": [
    {
     "data": {
      "text/html": [
       "<div>\n",
       "<style scoped>\n",
       "    .dataframe tbody tr th:only-of-type {\n",
       "        vertical-align: middle;\n",
       "    }\n",
       "\n",
       "    .dataframe tbody tr th {\n",
       "        vertical-align: top;\n",
       "    }\n",
       "\n",
       "    .dataframe thead th {\n",
       "        text-align: right;\n",
       "    }\n",
       "</style>\n",
       "<table border=\"1\" class=\"dataframe\">\n",
       "  <thead>\n",
       "    <tr style=\"text-align: right;\">\n",
       "      <th></th>\n",
       "      <th>ID</th>\n",
       "      <th>TITLE</th>\n",
       "      <th>ABSTRACT</th>\n",
       "      <th>Computer Science</th>\n",
       "      <th>Physics</th>\n",
       "      <th>Mathematics</th>\n",
       "      <th>Statistics</th>\n",
       "      <th>Quantitative Biology</th>\n",
       "      <th>Quantitative Finance</th>\n",
       "    </tr>\n",
       "  </thead>\n",
       "  <tbody>\n",
       "    <tr>\n",
       "      <td>0</td>\n",
       "      <td>1</td>\n",
       "      <td>Reconstructing Subject-Specific Effect Maps</td>\n",
       "      <td>Predictive models allow subject-specific inf...</td>\n",
       "      <td>1</td>\n",
       "      <td>0</td>\n",
       "      <td>0</td>\n",
       "      <td>0</td>\n",
       "      <td>0</td>\n",
       "      <td>0</td>\n",
       "    </tr>\n",
       "    <tr>\n",
       "      <td>1</td>\n",
       "      <td>2</td>\n",
       "      <td>Rotation Invariance Neural Network</td>\n",
       "      <td>Rotation invariance and translation invarian...</td>\n",
       "      <td>1</td>\n",
       "      <td>0</td>\n",
       "      <td>0</td>\n",
       "      <td>0</td>\n",
       "      <td>0</td>\n",
       "      <td>0</td>\n",
       "    </tr>\n",
       "    <tr>\n",
       "      <td>2</td>\n",
       "      <td>3</td>\n",
       "      <td>Spherical polyharmonics and Poisson kernels fo...</td>\n",
       "      <td>We introduce and develop the notion of spher...</td>\n",
       "      <td>0</td>\n",
       "      <td>0</td>\n",
       "      <td>1</td>\n",
       "      <td>0</td>\n",
       "      <td>0</td>\n",
       "      <td>0</td>\n",
       "    </tr>\n",
       "    <tr>\n",
       "      <td>3</td>\n",
       "      <td>4</td>\n",
       "      <td>A finite element approximation for the stochas...</td>\n",
       "      <td>The stochastic Landau--Lifshitz--Gilbert (LL...</td>\n",
       "      <td>0</td>\n",
       "      <td>0</td>\n",
       "      <td>1</td>\n",
       "      <td>0</td>\n",
       "      <td>0</td>\n",
       "      <td>0</td>\n",
       "    </tr>\n",
       "    <tr>\n",
       "      <td>4</td>\n",
       "      <td>5</td>\n",
       "      <td>Comparative study of Discrete Wavelet Transfor...</td>\n",
       "      <td>Fourier-transform infra-red (FTIR) spectra o...</td>\n",
       "      <td>1</td>\n",
       "      <td>0</td>\n",
       "      <td>0</td>\n",
       "      <td>1</td>\n",
       "      <td>0</td>\n",
       "      <td>0</td>\n",
       "    </tr>\n",
       "  </tbody>\n",
       "</table>\n",
       "</div>"
      ],
      "text/plain": [
       "   ID                                              TITLE  \\\n",
       "0   1        Reconstructing Subject-Specific Effect Maps   \n",
       "1   2                 Rotation Invariance Neural Network   \n",
       "2   3  Spherical polyharmonics and Poisson kernels fo...   \n",
       "3   4  A finite element approximation for the stochas...   \n",
       "4   5  Comparative study of Discrete Wavelet Transfor...   \n",
       "\n",
       "                                            ABSTRACT  Computer Science  \\\n",
       "0    Predictive models allow subject-specific inf...                 1   \n",
       "1    Rotation invariance and translation invarian...                 1   \n",
       "2    We introduce and develop the notion of spher...                 0   \n",
       "3    The stochastic Landau--Lifshitz--Gilbert (LL...                 0   \n",
       "4    Fourier-transform infra-red (FTIR) spectra o...                 1   \n",
       "\n",
       "   Physics  Mathematics  Statistics  Quantitative Biology  \\\n",
       "0        0            0           0                     0   \n",
       "1        0            0           0                     0   \n",
       "2        0            1           0                     0   \n",
       "3        0            1           0                     0   \n",
       "4        0            0           1                     0   \n",
       "\n",
       "   Quantitative Finance  \n",
       "0                     0  \n",
       "1                     0  \n",
       "2                     0  \n",
       "3                     0  \n",
       "4                     0  "
      ]
     },
     "execution_count": 2,
     "metadata": {},
     "output_type": "execute_result"
    }
   ],
   "source": [
    "train=pd.read_csv('train.csv')\n",
    "train.head()"
   ]
  },
  {
   "cell_type": "markdown",
   "metadata": {},
   "source": [
    "# Preprocessing"
   ]
  },
  {
   "cell_type": "code",
   "execution_count": 3,
   "metadata": {},
   "outputs": [],
   "source": [
    "# Load stopwords, common words such as  \"a,\" \"the,\" \"it,\" etc.\n",
    "stop_words = stopwords.words('english')\n",
    "    \n",
    "#Initialize stemmer, which will take words and convert words to their \"stem,\" e.g. Playing-> Play\n",
    "ps = PorterStemmer() \n",
    "\n",
    "# Removes non-alphabetical characters, whitespaces, and converts all letters to lowercase\n",
    "def clean_text(txt): \n",
    "    txt= txt.lower()   #lowercase\n",
    "    txt= re.sub(\"[^a-zA-Z]\",\" \",txt) #Remove everything except alphabetical characters \n",
    "    txt= word_tokenize(txt) #tokenize (split into list and remove whitespace)\n",
    "    \n",
    "    #initialize list to store clean text\n",
    "    clean_text=\"\"\n",
    "    \n",
    "    #iterate over each word\n",
    "    for w in txt:      \n",
    "        #remove stopwords\n",
    "        if w not in stop_words:\n",
    "            #stem=ps.stem(w) #stem \n",
    "            stem=w\n",
    "            clean_text = clean_text + stem +\" \" \n",
    "    return clean_text\n",
    "\n",
    "\n",
    "train['TITLE']=train['TITLE'].apply(clean_text)\n",
    "train['ABSTRACT']=train['ABSTRACT'].apply(clean_text)"
   ]
  },
  {
   "cell_type": "code",
   "execution_count": 4,
   "metadata": {},
   "outputs": [
    {
     "data": {
      "text/html": [
       "<div>\n",
       "<style scoped>\n",
       "    .dataframe tbody tr th:only-of-type {\n",
       "        vertical-align: middle;\n",
       "    }\n",
       "\n",
       "    .dataframe tbody tr th {\n",
       "        vertical-align: top;\n",
       "    }\n",
       "\n",
       "    .dataframe thead th {\n",
       "        text-align: right;\n",
       "    }\n",
       "</style>\n",
       "<table border=\"1\" class=\"dataframe\">\n",
       "  <thead>\n",
       "    <tr style=\"text-align: right;\">\n",
       "      <th></th>\n",
       "      <th>ID</th>\n",
       "      <th>TITLE</th>\n",
       "      <th>ABSTRACT</th>\n",
       "      <th>Computer Science</th>\n",
       "      <th>Physics</th>\n",
       "      <th>Mathematics</th>\n",
       "      <th>Statistics</th>\n",
       "      <th>Quantitative Biology</th>\n",
       "      <th>Quantitative Finance</th>\n",
       "    </tr>\n",
       "  </thead>\n",
       "  <tbody>\n",
       "    <tr>\n",
       "      <td>0</td>\n",
       "      <td>1</td>\n",
       "      <td>reconstructing subject specific effect maps</td>\n",
       "      <td>predictive models allow subject specific infer...</td>\n",
       "      <td>1</td>\n",
       "      <td>0</td>\n",
       "      <td>0</td>\n",
       "      <td>0</td>\n",
       "      <td>0</td>\n",
       "      <td>0</td>\n",
       "    </tr>\n",
       "    <tr>\n",
       "      <td>1</td>\n",
       "      <td>2</td>\n",
       "      <td>rotation invariance neural network</td>\n",
       "      <td>rotation invariance translation invariance gre...</td>\n",
       "      <td>1</td>\n",
       "      <td>0</td>\n",
       "      <td>0</td>\n",
       "      <td>0</td>\n",
       "      <td>0</td>\n",
       "      <td>0</td>\n",
       "    </tr>\n",
       "    <tr>\n",
       "      <td>2</td>\n",
       "      <td>3</td>\n",
       "      <td>spherical polyharmonics poisson kernels polyha...</td>\n",
       "      <td>introduce develop notion spherical polyharmoni...</td>\n",
       "      <td>0</td>\n",
       "      <td>0</td>\n",
       "      <td>1</td>\n",
       "      <td>0</td>\n",
       "      <td>0</td>\n",
       "      <td>0</td>\n",
       "    </tr>\n",
       "    <tr>\n",
       "      <td>3</td>\n",
       "      <td>4</td>\n",
       "      <td>finite element approximation stochastic maxwel...</td>\n",
       "      <td>stochastic landau lifshitz gilbert llg equatio...</td>\n",
       "      <td>0</td>\n",
       "      <td>0</td>\n",
       "      <td>1</td>\n",
       "      <td>0</td>\n",
       "      <td>0</td>\n",
       "      <td>0</td>\n",
       "    </tr>\n",
       "    <tr>\n",
       "      <td>4</td>\n",
       "      <td>5</td>\n",
       "      <td>comparative study discrete wavelet transforms ...</td>\n",
       "      <td>fourier transform infra red ftir spectra sampl...</td>\n",
       "      <td>1</td>\n",
       "      <td>0</td>\n",
       "      <td>0</td>\n",
       "      <td>1</td>\n",
       "      <td>0</td>\n",
       "      <td>0</td>\n",
       "    </tr>\n",
       "  </tbody>\n",
       "</table>\n",
       "</div>"
      ],
      "text/plain": [
       "   ID                                              TITLE  \\\n",
       "0   1       reconstructing subject specific effect maps    \n",
       "1   2                rotation invariance neural network    \n",
       "2   3  spherical polyharmonics poisson kernels polyha...   \n",
       "3   4  finite element approximation stochastic maxwel...   \n",
       "4   5  comparative study discrete wavelet transforms ...   \n",
       "\n",
       "                                            ABSTRACT  Computer Science  \\\n",
       "0  predictive models allow subject specific infer...                 1   \n",
       "1  rotation invariance translation invariance gre...                 1   \n",
       "2  introduce develop notion spherical polyharmoni...                 0   \n",
       "3  stochastic landau lifshitz gilbert llg equatio...                 0   \n",
       "4  fourier transform infra red ftir spectra sampl...                 1   \n",
       "\n",
       "   Physics  Mathematics  Statistics  Quantitative Biology  \\\n",
       "0        0            0           0                     0   \n",
       "1        0            0           0                     0   \n",
       "2        0            1           0                     0   \n",
       "3        0            1           0                     0   \n",
       "4        0            0           1                     0   \n",
       "\n",
       "   Quantitative Finance  \n",
       "0                     0  \n",
       "1                     0  \n",
       "2                     0  \n",
       "3                     0  \n",
       "4                     0  "
      ]
     },
     "execution_count": 4,
     "metadata": {},
     "output_type": "execute_result"
    }
   ],
   "source": [
    "train.head()"
   ]
  },
  {
   "cell_type": "markdown",
   "metadata": {},
   "source": [
    "# Visualise the target labels"
   ]
  },
  {
   "cell_type": "code",
   "execution_count": 5,
   "metadata": {},
   "outputs": [
    {
     "data": {
      "text/plain": [
       "<Figure size 640x480 with 1 Axes>"
      ]
     },
     "metadata": {},
     "output_type": "display_data"
    }
   ],
   "source": [
    "import seaborn as sns\n",
    "import matplotlib.pyplot as plt\n",
    "binary_labels=train[['Computer Science', 'Physics', 'Mathematics', 'Statistics', 'Quantitative Biology', 'Quantitative Finance']]\n",
    "categories = list(binary_labels.columns.values)\n",
    "ax= sns.barplot(binary_labels.sum().values, categories)\n",
    "\n",
    "plt.title(\"Article\", fontsize=24)\n",
    "plt.ylabel('Article Belongs To', fontsize=18)\n",
    "plt.xlabel('Number of articles', fontsize=18)\n",
    "#adding the text labels\n",
    "rects = ax.patches\n",
    "labels = binary_labels.sum().values\n",
    "plt.show()"
   ]
  },
  {
   "cell_type": "markdown",
   "metadata": {},
   "source": [
    "# Train and Validation split"
   ]
  },
  {
   "cell_type": "code",
   "execution_count": 6,
   "metadata": {},
   "outputs": [],
   "source": [
    "from sklearn.feature_extraction.text import TfidfVectorizer\n",
    "from sklearn.model_selection import train_test_split\n",
    "\n",
    "# split dataset into training and validation set\n",
    "\n",
    "tfidf_vectorizer = TfidfVectorizer(max_df=0.8, max_features=10000)\n",
    "xtrain, xval, ytrain, yval = train_test_split(train['ABSTRACT'], binary_labels, test_size=0.2, random_state=9)\n",
    "\n",
    "# create TF-IDF features\n",
    "# TF-IDF = Term frequency - inverse document frequency\n",
    "# Used to predict how important a word is for a document\n",
    "xtrain_tfidf = tfidf_vectorizer.fit_transform(xtrain)\n",
    "xval_tfidf = tfidf_vectorizer.transform(xval)"
   ]
  },
  {
   "cell_type": "markdown",
   "metadata": {},
   "source": [
    "# Model Building"
   ]
  },
  {
   "cell_type": "markdown",
   "metadata": {},
   "source": [
    "Logistic Regression"
   ]
  },
  {
   "cell_type": "code",
   "execution_count": 8,
   "metadata": {},
   "outputs": [
    {
     "name": "stdout",
     "output_type": "stream",
     "text": [
      "Accuracy score for Logistic Regression:\n",
      "0.6584028605482718\n",
      "f1-Score:  0.8094270621698496\n",
      "Classification report:\n",
      "                      precision    recall  f1-score   support\n",
      "\n",
      "    Computer Science       0.83      0.85      0.84      1704\n",
      "             Physics       0.96      0.80      0.87      1211\n",
      "         Mathematics       0.87      0.77      0.82      1089\n",
      "          Statistics       0.83      0.67      0.74      1069\n",
      "Quantitative Biology       0.62      0.07      0.12       116\n",
      "Quantitative Finance       0.60      0.07      0.12        44\n",
      "\n",
      "           micro avg       0.86      0.76      0.81      5233\n",
      "           macro avg       0.78      0.54      0.59      5233\n",
      "        weighted avg       0.86      0.76      0.80      5233\n",
      "         samples avg       0.82      0.80      0.79      5233\n",
      "\n"
     ]
    },
    {
     "name": "stderr",
     "output_type": "stream",
     "text": [
      "E:\\Anaconda\\lib\\site-packages\\sklearn\\metrics\\_classification.py:1272: UndefinedMetricWarning: Precision and F-score are ill-defined and being set to 0.0 in samples with no predicted labels. Use `zero_division` parameter to control this behavior.\n",
      "  _warn_prf(average, modifier, msg_start, len(result))\n"
     ]
    }
   ],
   "source": [
    "from sklearn.linear_model import LogisticRegression\n",
    "from sklearn.multiclass import OneVsRestClassifier\n",
    "from sklearn.metrics import accuracy_score,f1_score,classification_report\n",
    "\n",
    "#Run Logistic Regrssion\n",
    "logreg = LogisticRegression()\n",
    "logreg_classifier = OneVsRestClassifier(logreg)\n",
    "\n",
    "# fit model on train data\n",
    "logreg_classifier.fit(xtrain_tfidf, ytrain)\n",
    "\n",
    "# make predictions for validation set\n",
    "predictions = logreg_classifier.predict(xval_tfidf)\n",
    "\n",
    "# evaluate performance\n",
    "from sklearn.metrics import accuracy_score\n",
    "print(\"Accuracy score for Logistic Regression:\")\n",
    "print(accuracy_score(yval, predictions))\n",
    "\n",
    "print('f1-Score: ',f1_score(y_true=yval, y_pred=predictions, average='micro'))\n",
    "\n",
    "print(\"Classification report:\")\n",
    "print(classification_report(yval, predictions, target_names=binary_labels.columns))"
   ]
  },
  {
   "cell_type": "markdown",
   "metadata": {},
   "source": [
    "Gaussian Naive Bayes"
   ]
  },
  {
   "cell_type": "code",
   "execution_count": 9,
   "metadata": {},
   "outputs": [
    {
     "name": "stdout",
     "output_type": "stream",
     "text": [
      "Accuracy score for Gaussian Naive Bayes:\n",
      "0.4307508939213349\n",
      "f1-Score:  0.7034911525585844\n",
      "Classification report:\n",
      "                      precision    recall  f1-score   support\n",
      "\n",
      "    Computer Science       0.65      0.92      0.76      1704\n",
      "             Physics       0.71      0.85      0.77      1211\n",
      "         Mathematics       0.61      0.85      0.71      1089\n",
      "          Statistics       0.48      0.82      0.61      1069\n",
      "Quantitative Biology       0.08      0.06      0.07       116\n",
      "Quantitative Finance       0.12      0.02      0.04        44\n",
      "\n",
      "           micro avg       0.60      0.84      0.70      5233\n",
      "           macro avg       0.44      0.59      0.49      5233\n",
      "        weighted avg       0.60      0.84      0.70      5233\n",
      "         samples avg       0.67      0.86      0.72      5233\n",
      "\n"
     ]
    },
    {
     "name": "stderr",
     "output_type": "stream",
     "text": [
      "E:\\Anaconda\\lib\\site-packages\\sklearn\\metrics\\_classification.py:1272: UndefinedMetricWarning: Precision and F-score are ill-defined and being set to 0.0 in samples with no predicted labels. Use `zero_division` parameter to control this behavior.\n",
      "  _warn_prf(average, modifier, msg_start, len(result))\n"
     ]
    }
   ],
   "source": [
    "# Using Gaussian Naive Bayes \n",
    "from skmultilearn.problem_transform import BinaryRelevance\n",
    "from sklearn.naive_bayes import GaussianNB, MultinomialNB\n",
    "\n",
    "\n",
    "# initialize binary relevance multi-label classifier\n",
    "# with a gaussian naive bayes base classifier\n",
    "classifier = BinaryRelevance(GaussianNB())\n",
    "# train\n",
    "classifier.fit(xtrain_tfidf, ytrain)\n",
    "# predict\n",
    "predictions = classifier.predict(xval_tfidf)\n",
    "\n",
    "print(\"Accuracy score for Gaussian Naive Bayes:\")\n",
    "print(accuracy_score(yval, predictions))\n",
    "print('f1-Score: ',f1_score(y_true=yval, y_pred=predictions, average='micro'))\n",
    "\n",
    "print(\"Classification report:\")\n",
    "print(classification_report(yval, predictions, target_names=binary_labels.columns))"
   ]
  },
  {
   "cell_type": "markdown",
   "metadata": {},
   "source": [
    "Multinomial Naive Bayes"
   ]
  },
  {
   "cell_type": "code",
   "execution_count": 10,
   "metadata": {},
   "outputs": [
    {
     "name": "stdout",
     "output_type": "stream",
     "text": [
      "Accuracy score for Gaussian Naive Bayes:\n",
      "0.634564958283671\n",
      "f1-Score:  0.8028813394334664\n",
      "Classification report:\n",
      "                      precision    recall  f1-score   support\n",
      "\n",
      "    Computer Science       0.77      0.89      0.83      1704\n",
      "             Physics       0.95      0.79      0.86      1211\n",
      "         Mathematics       0.84      0.78      0.81      1089\n",
      "          Statistics       0.75      0.76      0.75      1069\n",
      "Quantitative Biology       0.67      0.02      0.03       116\n",
      "Quantitative Finance       0.00      0.00      0.00        44\n",
      "\n",
      "           micro avg       0.82      0.79      0.80      5233\n",
      "           macro avg       0.66      0.54      0.55      5233\n",
      "        weighted avg       0.82      0.79      0.79      5233\n",
      "         samples avg       0.81      0.82      0.79      5233\n",
      "\n"
     ]
    },
    {
     "name": "stderr",
     "output_type": "stream",
     "text": [
      "E:\\Anaconda\\lib\\site-packages\\sklearn\\metrics\\_classification.py:1272: UndefinedMetricWarning: Precision and F-score are ill-defined and being set to 0.0 in labels with no predicted samples. Use `zero_division` parameter to control this behavior.\n",
      "  _warn_prf(average, modifier, msg_start, len(result))\n",
      "E:\\Anaconda\\lib\\site-packages\\sklearn\\metrics\\_classification.py:1272: UndefinedMetricWarning: Precision and F-score are ill-defined and being set to 0.0 in samples with no predicted labels. Use `zero_division` parameter to control this behavior.\n",
      "  _warn_prf(average, modifier, msg_start, len(result))\n"
     ]
    }
   ],
   "source": [
    "# Using Multinomial Naive Bayes \n",
    "from skmultilearn.problem_transform import BinaryRelevance\n",
    "from sklearn.naive_bayes import GaussianNB, MultinomialNB\n",
    "\n",
    "\n",
    "# initialize binary relevance multi-label classifier\n",
    "# with a gaussian naive bayes base classifier\n",
    "classifier = BinaryRelevance(MultinomialNB())\n",
    "# train\n",
    "classifier.fit(xtrain_tfidf, ytrain)\n",
    "# predict\n",
    "predictions = classifier.predict(xval_tfidf)\n",
    "\n",
    "print(\"Accuracy score for Gaussian Naive Bayes:\")\n",
    "print(accuracy_score(yval, predictions))\n",
    "print('f1-Score: ',f1_score(y_true=yval, y_pred=predictions, average='micro'))\n",
    "\n",
    "print(\"Classification report:\")\n",
    "print(classification_report(yval, predictions, target_names=binary_labels.columns))"
   ]
  },
  {
   "cell_type": "markdown",
   "metadata": {},
   "source": [
    "SGDClassifier"
   ]
  },
  {
   "cell_type": "code",
   "execution_count": 12,
   "metadata": {},
   "outputs": [
    {
     "name": "stdout",
     "output_type": "stream",
     "text": [
      "Accuracy score for Logistic Regression:\n",
      "0.6717520858164482\n",
      "f1-Score:  0.8179635927185438\n",
      "Classification report:\n",
      "                      precision    recall  f1-score   support\n",
      "\n",
      "    Computer Science       0.82      0.86      0.84      1704\n",
      "             Physics       0.95      0.81      0.87      1211\n",
      "         Mathematics       0.88      0.78      0.83      1089\n",
      "          Statistics       0.82      0.71      0.76      1069\n",
      "Quantitative Biology       0.47      0.14      0.21       116\n",
      "Quantitative Finance       0.72      0.30      0.42        44\n",
      "\n",
      "           micro avg       0.86      0.78      0.82      5233\n",
      "           macro avg       0.78      0.60      0.66      5233\n",
      "        weighted avg       0.85      0.78      0.81      5233\n",
      "         samples avg       0.83      0.82      0.81      5233\n",
      "\n"
     ]
    },
    {
     "name": "stderr",
     "output_type": "stream",
     "text": [
      "E:\\Anaconda\\lib\\site-packages\\sklearn\\metrics\\_classification.py:1272: UndefinedMetricWarning: Precision and F-score are ill-defined and being set to 0.0 in samples with no predicted labels. Use `zero_division` parameter to control this behavior.\n",
      "  _warn_prf(average, modifier, msg_start, len(result))\n"
     ]
    }
   ],
   "source": [
    "from sklearn.linear_model import SGDClassifier\n",
    "sgd = SGDClassifier(random_state=9)\n",
    "\n",
    "\n",
    "#Run SGDClassifier\n",
    "sgd_classifier = BinaryRelevance(sgd)\n",
    "\n",
    "# fit model on train data\n",
    "sgd_classifier.fit(xtrain_tfidf, ytrain)\n",
    "\n",
    "# make predictions for validation set\n",
    "predictions = sgd_classifier.predict(xval_tfidf)\n",
    "\n",
    "# evaluate performance\n",
    "from sklearn.metrics import accuracy_score\n",
    "print(\"Accuracy score for Logistic Regression:\")\n",
    "print(accuracy_score(yval, predictions))\n",
    "print('f1-Score: ',f1_score(y_true=yval, y_pred=predictions, average='micro'))\n",
    "\n",
    "print(\"Classification report:\")\n",
    "print(classification_report(yval, predictions, target_names=binary_labels.columns))"
   ]
  },
  {
   "cell_type": "code",
   "execution_count": 13,
   "metadata": {},
   "outputs": [
    {
     "name": "stdout",
     "output_type": "stream",
     "text": [
      "Accuracy score for Logistic Regression:\n",
      "0.6707985697258642\n",
      "f1-Score:  0.8200378448361717\n",
      "Classification report:\n",
      "                      precision    recall  f1-score   support\n",
      "\n",
      "    Computer Science       0.82      0.88      0.85      1704\n",
      "             Physics       0.95      0.81      0.88      1211\n",
      "         Mathematics       0.88      0.78      0.83      1089\n",
      "          Statistics       0.81      0.72      0.76      1069\n",
      "Quantitative Biology       0.55      0.10      0.17       116\n",
      "Quantitative Finance       0.72      0.30      0.42        44\n",
      "\n",
      "           micro avg       0.86      0.79      0.82      5233\n",
      "           macro avg       0.79      0.60      0.65      5233\n",
      "        weighted avg       0.85      0.79      0.81      5233\n",
      "         samples avg       0.83      0.82      0.81      5233\n",
      "\n"
     ]
    },
    {
     "name": "stderr",
     "output_type": "stream",
     "text": [
      "E:\\Anaconda\\lib\\site-packages\\sklearn\\metrics\\_classification.py:1272: UndefinedMetricWarning: Precision and F-score are ill-defined and being set to 0.0 in samples with no predicted labels. Use `zero_division` parameter to control this behavior.\n",
      "  _warn_prf(average, modifier, msg_start, len(result))\n"
     ]
    }
   ],
   "source": [
    "from sklearn.linear_model import SGDClassifier\n",
    "sgd = SGDClassifier(random_state=9)\n",
    "\n",
    "\n",
    "#Run SGDClassifier\n",
    "sgd_classifier = OneVsRestClassifier(sgd)\n",
    "\n",
    "# fit model on train data\n",
    "sgd_classifier.fit(xtrain_tfidf, ytrain)\n",
    "\n",
    "# make predictions for validation set\n",
    "predictions = sgd_classifier.predict(xval_tfidf)\n",
    "\n",
    "# evaluate performance\n",
    "from sklearn.metrics import accuracy_score\n",
    "print(\"Accuracy score for Logistic Regression:\")\n",
    "print(accuracy_score(yval, predictions))\n",
    "print('f1-Score: ',f1_score(y_true=yval, y_pred=predictions, average='micro'))\n",
    "\n",
    "print(\"Classification report:\")\n",
    "print(classification_report(yval, predictions, target_names=binary_labels.columns))"
   ]
  },
  {
   "cell_type": "markdown",
   "metadata": {},
   "source": [
    "KNN Classifier"
   ]
  },
  {
   "cell_type": "code",
   "execution_count": 20,
   "metadata": {},
   "outputs": [
    {
     "name": "stdout",
     "output_type": "stream",
     "text": [
      "Accuracy score for Logistic Regression:\n",
      "0.5880810488676996\n",
      "f1-Score:  0.7474048442906575\n",
      "Classification report:\n",
      "                      precision    recall  f1-score   support\n",
      "\n",
      "    Computer Science       0.76      0.80      0.78      1704\n",
      "             Physics       0.90      0.73      0.81      1211\n",
      "         Mathematics       0.75      0.71      0.73      1089\n",
      "          Statistics       0.73      0.66      0.69      1069\n",
      "Quantitative Biology       0.46      0.23      0.31       116\n",
      "Quantitative Finance       0.70      0.48      0.57        44\n",
      "\n",
      "           micro avg       0.77      0.72      0.75      5233\n",
      "           macro avg       0.72      0.60      0.65      5233\n",
      "        weighted avg       0.77      0.72      0.75      5233\n",
      "         samples avg       0.76      0.75      0.74      5233\n",
      "\n"
     ]
    },
    {
     "name": "stderr",
     "output_type": "stream",
     "text": [
      "E:\\Anaconda\\lib\\site-packages\\sklearn\\metrics\\_classification.py:1272: UndefinedMetricWarning: Precision and F-score are ill-defined and being set to 0.0 in samples with no predicted labels. Use `zero_division` parameter to control this behavior.\n",
      "  _warn_prf(average, modifier, msg_start, len(result))\n"
     ]
    }
   ],
   "source": [
    "from sklearn.neighbors import KNeighborsClassifier\n",
    "from sklearn.multiclass import OneVsRestClassifier\n",
    "\n",
    "knnClf = KNeighborsClassifier()\n",
    "classifier = OneVsRestClassifier(knnClf)\n",
    "# fit model on train data\n",
    "classifier.fit(xtrain_tfidf, ytrain)\n",
    "\n",
    "# make predictions for validation set\n",
    "predictions = classifier.predict(xval_tfidf)\n",
    "\n",
    "# evaluate performance\n",
    "from sklearn.metrics import accuracy_score\n",
    "print(\"Accuracy score for Logistic Regression:\")\n",
    "print(accuracy_score(yval, predictions))\n",
    "\n",
    "print('f1-Score: ',f1_score(y_true=yval, y_pred=predictions, average='micro'))\n",
    "\n",
    "print(\"Classification report:\")\n",
    "print(classification_report(yval, predictions, target_names=binary_labels.columns))"
   ]
  },
  {
   "cell_type": "code",
   "execution_count": null,
   "metadata": {},
   "outputs": [],
   "source": []
  }
 ],
 "metadata": {
  "kernelspec": {
   "display_name": "Python 3",
   "language": "python",
   "name": "python3"
  },
  "language_info": {
   "codemirror_mode": {
    "name": "ipython",
    "version": 3
   },
   "file_extension": ".py",
   "mimetype": "text/x-python",
   "name": "python",
   "nbconvert_exporter": "python",
   "pygments_lexer": "ipython3",
   "version": "3.7.4"
  }
 },
 "nbformat": 4,
 "nbformat_minor": 2
}
